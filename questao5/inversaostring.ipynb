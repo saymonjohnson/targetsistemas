{
  "nbformat": 4,
  "nbformat_minor": 0,
  "metadata": {
    "colab": {
      "provenance": [],
      "authorship_tag": "ABX9TyOMsJBsXf7Imv917I3cs5PV",
      "include_colab_link": true
    },
    "kernelspec": {
      "name": "python3",
      "display_name": "Python 3"
    },
    "language_info": {
      "name": "python"
    }
  },
  "cells": [
    {
      "cell_type": "markdown",
      "metadata": {
        "id": "view-in-github",
        "colab_type": "text"
      },
      "source": [
        "<a href=\"https://colab.research.google.com/github/saymonjohnson/targetsistemas/blob/main/questao5/inversaostring.ipynb\" target=\"_parent\"><img src=\"https://colab.research.google.com/assets/colab-badge.svg\" alt=\"Open In Colab\"/></a>"
      ]
    },
    {
      "cell_type": "code",
      "execution_count": 3,
      "metadata": {
        "colab": {
          "base_uri": "https://localhost:8080/"
        },
        "id": "ivjbmNojqtYU",
        "outputId": "8af75102-5f89-4e8f-eab3-17b3d485aa05"
      },
      "outputs": [
        {
          "output_type": "stream",
          "name": "stdout",
          "text": [
            "Digite uma string: desenvolvedor\n",
            "String original: desenvolvedor\n",
            "String invertida: rodevlovnesed\n"
          ]
        }
      ],
      "source": [
        "minha_string = input(\"Digite uma string: \")\n",
        "string_invertida = \"\"\n",
        "\n",
        "for i in range(len(minha_string) - 1, -1, -1):\n",
        "    string_invertida += minha_string[i]\n",
        "\n",
        "print(\"String original:\", minha_string)\n",
        "print(\"String invertida:\", string_invertida)\n"
      ]
    }
  ]
}