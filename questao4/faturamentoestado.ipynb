{
  "nbformat": 4,
  "nbformat_minor": 0,
  "metadata": {
    "colab": {
      "provenance": [],
      "authorship_tag": "ABX9TyOELRdDHEu/lchtWQ582vxY",
      "include_colab_link": true
    },
    "kernelspec": {
      "name": "python3",
      "display_name": "Python 3"
    },
    "language_info": {
      "name": "python"
    }
  },
  "cells": [
    {
      "cell_type": "markdown",
      "metadata": {
        "id": "view-in-github",
        "colab_type": "text"
      },
      "source": [
        "<a href=\"https://colab.research.google.com/github/saymonjohnson/targetsistemas/blob/main/questao4/faturamentoestado.ipynb\" target=\"_parent\"><img src=\"https://colab.research.google.com/assets/colab-badge.svg\" alt=\"Open In Colab\"/></a>"
      ]
    },
    {
      "cell_type": "code",
      "execution_count": 2,
      "metadata": {
        "id": "1FUB9UAgc_Jt",
        "colab": {
          "base_uri": "https://localhost:8080/"
        },
        "outputId": "0585ab04-7b58-4b71-cc53-fb424b42ea15"
      },
      "outputs": [
        {
          "output_type": "stream",
          "name": "stdout",
          "text": [
            "SP: 37.53%\n",
            "RJ: 20.29%\n",
            "MG: 16.17%\n",
            "ES: 15.03%\n",
            "Outros: 10.98%\n"
          ]
        }
      ],
      "source": [
        "faturamento = {\n",
        "    'SP': 67836.43,\n",
        "    'RJ': 36678.66,\n",
        "    'MG': 29229.88,\n",
        "    'ES': 27165.48,\n",
        "    'Outros': 19849.53\n",
        "}\n",
        "\n",
        "faturamento_total = sum(faturamento.values())\n",
        "\n",
        "for estado, valor in faturamento.items():\n",
        "    percentual = (valor / faturamento_total) * 100\n",
        "    print(f'{estado}: {percentual:.2f}%')\n"
      ]
    }
  ]
}